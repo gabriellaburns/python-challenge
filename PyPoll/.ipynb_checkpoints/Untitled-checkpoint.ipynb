{
 "cells": [
  {
   "cell_type": "code",
   "execution_count": 1,
   "id": "0f876242",
   "metadata": {},
   "outputs": [],
   "source": [
    "import os\n",
    "import csv"
   ]
  },
  {
   "cell_type": "code",
   "execution_count": 2,
   "id": "33e1dc81",
   "metadata": {},
   "outputs": [],
   "source": [
    "vote_total = 0\n",
    "candidate_list = []\n",
    "candidate_vote_total = {}\n",
    "candidate_name = []\n",
    "candidate_vote_percent = []\n"
   ]
  },
  {
   "cell_type": "code",
   "execution_count": 3,
   "id": "6cf3cb87",
   "metadata": {},
   "outputs": [],
   "source": [
    "csvpath = os.path.join(\"/Users/gabriellaburns/Desktop/GT_HW/python-challenge/PyPoll/Resources/election_data.csv\")\n",
    "\n"
   ]
  },
  {
   "cell_type": "code",
   "execution_count": 9,
   "id": "c47f66e4",
   "metadata": {},
   "outputs": [
    {
     "ename": "NameError",
     "evalue": "name 'candidate_voter_percentage' is not defined",
     "output_type": "error",
     "traceback": [
      "\u001b[0;31m---------------------------------------------------------------------------\u001b[0m",
      "\u001b[0;31mNameError\u001b[0m                                 Traceback (most recent call last)",
      "\u001b[0;32m/var/folders/gr/g0lzn1p15gqfb11105yyt_tm0000gn/T/ipykernel_92140/2896534441.py\u001b[0m in \u001b[0;36m<module>\u001b[0;34m\u001b[0m\n\u001b[1;32m     22\u001b[0m             \u001b[0mcandidate_vote_total\u001b[0m\u001b[0;34m[\u001b[0m\u001b[0mx\u001b[0m\u001b[0;34m]\u001b[0m \u001b[0;34m=\u001b[0m \u001b[0mcandidate_vote_total\u001b[0m\u001b[0;34m[\u001b[0m\u001b[0mx\u001b[0m\u001b[0;34m]\u001b[0m \u001b[0;34m+\u001b[0m \u001b[0;36m1\u001b[0m\u001b[0;34m\u001b[0m\u001b[0;34m\u001b[0m\u001b[0m\n\u001b[1;32m     23\u001b[0m     \u001b[0;32mfor\u001b[0m \u001b[0mx\u001b[0m \u001b[0;32min\u001b[0m \u001b[0mcandidate_name\u001b[0m\u001b[0;34m:\u001b[0m\u001b[0;34m\u001b[0m\u001b[0;34m\u001b[0m\u001b[0m\n\u001b[0;32m---> 24\u001b[0;31m         \u001b[0mcandidate_voter_percentage\u001b[0m\u001b[0;34m[\u001b[0m\u001b[0mx\u001b[0m\u001b[0;34m]\u001b[0m \u001b[0;34m=\u001b[0m \u001b[0;34m(\u001b[0m\u001b[0mfloat\u001b[0m\u001b[0;34m(\u001b[0m\u001b[0mcandidate_vote_total\u001b[0m\u001b[0;34m[\u001b[0m\u001b[0mx\u001b[0m\u001b[0;34m]\u001b[0m\u001b[0;34m)\u001b[0m\u001b[0;34m/\u001b[0m\u001b[0mfloat\u001b[0m\u001b[0;34m(\u001b[0m\u001b[0mvote_total\u001b[0m\u001b[0;34m)\u001b[0m\u001b[0;34m)\u001b[0m\u001b[0;34m\u001b[0m\u001b[0;34m\u001b[0m\u001b[0m\n\u001b[0m",
      "\u001b[0;31mNameError\u001b[0m: name 'candidate_voter_percentage' is not defined"
     ]
    }
   ],
   "source": [
    "with open(csvpath, 'r') as csvfile:\n",
    "    csvreader = csv.reader(csvfile, delimiter=',')\n",
    "    csv_reader=next(csvreader)\n",
    "\n",
    "    #total votes and total rows\n",
    "    for row in csvreader:\n",
    "        vote_total = vote_total + 1\n",
    "        #print(len(vote_total))\n",
    "        candidate_list.append(row[2])\n",
    "        \n",
    "        #add \n",
    "       \n",
    "    #convert candidate list to set to get unique values, then back to list \n",
    "    candidate_set = set(candidate_list)\n",
    "    candidate_name =list(candidate_set)\n",
    "    candidate_vote_total = dict.fromkeys(candidate_name, 0)\n",
    "    #add names to dictionary \n",
    "    \n",
    "    #calculate vote total for each candidate\n",
    "    for x in candidate_name:        \n",
    "        if x in candidate_list:\n",
    "            candidate_vote_total[x] = candidate_vote_total[x] + 1\n",
    "    for x in candidate_name:\n",
    "        candidate_vote_percent[x] = (float(candidate_vote_total[x])/float(vote_total))"
   ]
  },
  {
   "cell_type": "code",
   "execution_count": 7,
   "id": "09e2a9bc",
   "metadata": {},
   "outputs": [
    {
     "data": {
      "text/plain": [
       "['Correy', 'Li', \"O'Tooley\", 'Khan']"
      ]
     },
     "execution_count": 7,
     "metadata": {},
     "output_type": "execute_result"
    }
   ],
   "source": [
    "candidate_name\n",
    "\n"
   ]
  },
  {
   "cell_type": "code",
   "execution_count": 8,
   "id": "286b9088",
   "metadata": {},
   "outputs": [
    {
     "data": {
      "text/plain": [
       "{}"
      ]
     },
     "execution_count": 8,
     "metadata": {},
     "output_type": "execute_result"
    }
   ],
   "source": [
    "candidate_vote_total\n"
   ]
  },
  {
   "cell_type": "code",
   "execution_count": null,
   "id": "e1e9f655",
   "metadata": {},
   "outputs": [],
   "source": []
  }
 ],
 "metadata": {
  "kernelspec": {
   "display_name": "Python 3 (ipykernel)",
   "language": "python",
   "name": "python3"
  },
  "language_info": {
   "codemirror_mode": {
    "name": "ipython",
    "version": 3
   },
   "file_extension": ".py",
   "mimetype": "text/x-python",
   "name": "python",
   "nbconvert_exporter": "python",
   "pygments_lexer": "ipython3",
   "version": "3.9.7"
  }
 },
 "nbformat": 4,
 "nbformat_minor": 5
}
