{
 "cells": [
  {
   "cell_type": "code",
   "execution_count": 183,
   "id": "7003d4f2",
   "metadata": {},
   "outputs": [],
   "source": [
    "import os\n",
    "import csv\n",
    "import operator\n",
    "import json\n",
    "import collections\n",
    "from collections import Counter"
   ]
  },
  {
   "cell_type": "code",
   "execution_count": 184,
   "id": "285a4a16",
   "metadata": {},
   "outputs": [],
   "source": [
    "vote_total = 0\n",
    "candidate_list = []\n",
    "candidate_vote_total = {}\n",
    "candidate_name = []\n",
    "candidate_vote_percent = {}\n"
   ]
  },
  {
   "cell_type": "code",
   "execution_count": 185,
   "id": "951e34dc",
   "metadata": {},
   "outputs": [],
   "source": [
    "csvpath = os.path.join(\"/Users/gabriellaburns/Desktop/GT_HW/python-challenge/PyPoll/Resources/election_data.csv\")\n",
    "\n"
   ]
  },
  {
   "cell_type": "code",
   "execution_count": 235,
   "id": "95539165",
   "metadata": {},
   "outputs": [
    {
     "name": "stderr",
     "output_type": "stream",
     "text": [
      "<>:46: SyntaxWarning: 'str' object is not callable; perhaps you missed a comma?\n",
      "<>:46: SyntaxWarning: 'str' object is not callable; perhaps you missed a comma?\n",
      "/var/folders/gr/g0lzn1p15gqfb11105yyt_tm0000gn/T/ipykernel_92140/2364095128.py:46: SyntaxWarning: 'str' object is not callable; perhaps you missed a comma?\n",
      "  string = str(key)+\" str(sorted_candidate_percent((value))+\" (+\" str(sorted_candidate_total(value))+\" )+\" \\n\"\n"
     ]
    },
    {
     "name": "stdout",
     "output_type": "stream",
     "text": [
      "{'Khan': 24400541, 'Correy': 7746200, 'Li': 5422340, \"O'Tooley\": 1161930}\n",
      "{'Khan': 63.0, 'Correy': 20.0, 'Li': 14.0, \"O'Tooley\": 3.0}\n"
     ]
    },
    {
     "ename": "ValueError",
     "evalue": "too many values to unpack (expected 2)",
     "output_type": "error",
     "traceback": [
      "\u001b[0;31m---------------------------------------------------------------------------\u001b[0m",
      "\u001b[0;31mValueError\u001b[0m                                Traceback (most recent call last)",
      "\u001b[0;32m/var/folders/gr/g0lzn1p15gqfb11105yyt_tm0000gn/T/ipykernel_92140/2364095128.py\u001b[0m in \u001b[0;36m<module>\u001b[0;34m\u001b[0m\n\u001b[1;32m     43\u001b[0m     \u001b[0;31m#output.write('{}\\n'.format(line))\u001b[0m\u001b[0;34m\u001b[0m\u001b[0;34m\u001b[0m\u001b[0m\n\u001b[1;32m     44\u001b[0m \u001b[0;34m\u001b[0m\u001b[0m\n\u001b[0;32m---> 45\u001b[0;31m     \u001b[0;32mfor\u001b[0m \u001b[0mkey\u001b[0m\u001b[0;34m,\u001b[0m\u001b[0mvalue\u001b[0m \u001b[0;32min\u001b[0m \u001b[0msorted_candidate_percent\u001b[0m\u001b[0;34m.\u001b[0m\u001b[0mkeys\u001b[0m\u001b[0;34m(\u001b[0m\u001b[0;34m)\u001b[0m \u001b[0;32mand\u001b[0m \u001b[0msorted_candidate_total\u001b[0m\u001b[0;34m.\u001b[0m\u001b[0mkeys\u001b[0m\u001b[0;34m(\u001b[0m\u001b[0;34m)\u001b[0m\u001b[0;34m:\u001b[0m\u001b[0;34m\u001b[0m\u001b[0;34m\u001b[0m\u001b[0m\n\u001b[0m\u001b[1;32m     46\u001b[0m         \u001b[0mstring\u001b[0m \u001b[0;34m=\u001b[0m \u001b[0mstr\u001b[0m\u001b[0;34m(\u001b[0m\u001b[0mkey\u001b[0m\u001b[0;34m)\u001b[0m\u001b[0;34m+\u001b[0m\u001b[0;34m\" str(sorted_candidate_percent((value))+\"\u001b[0m \u001b[0;34m(\u001b[0m\u001b[0;34m+\u001b[0m\u001b[0;34m\" str(sorted_candidate_total(value))+\"\u001b[0m \u001b[0;34m)\u001b[0m\u001b[0;34m+\u001b[0m\u001b[0;34m\" \\n\"\u001b[0m\u001b[0;34m\u001b[0m\u001b[0;34m\u001b[0m\u001b[0m\n",
      "\u001b[0;31mValueError\u001b[0m: too many values to unpack (expected 2)"
     ]
    }
   ],
   "source": [
    "with open(csvpath, 'r') as csvfile:\n",
    "    csvreader = csv.reader(csvfile, delimiter=',')\n",
    "    csv_reader=next(csvreader)\n",
    "\n",
    "    #total votes and total rows\n",
    "    for row in csvreader:\n",
    "        vote_total = vote_total + 1\n",
    "        #print(len(vote_total))\n",
    "        candidate_list.append(row[2])\n",
    "        \n",
    "        #add \n",
    "       \n",
    "    #convert candidate list to set to get unique values, then back to list \n",
    "    candidate_set = set(candidate_list)\n",
    "    candidate_name =list(candidate_set)\n",
    "   \n",
    "    #populate the dictionaries with candidate_name and their corresponding vote total or percent\n",
    "    candidate_vote_total = dict.fromkeys(candidate_name, 0)\n",
    "    candidate_vote_percent = dict.fromkeys(candidate_name, 0)\n",
    "    #add names to dictionary \n",
    "    \n",
    "   #sort the votes\n",
    "    \n",
    "    \n",
    "    for x in candidate_list:\n",
    "        if x in candidate_name:\n",
    "            candidate_vote_total[x] = candidate_vote_total[x] + 1\n",
    "    for x in candidate_name:\n",
    "        candidate_vote_percent[x] = (float(candidate_vote_total[x])/float(vote_total))\n",
    "    for key, value in candidate_vote_percent.items():\n",
    "        candidate_vote_percent[key] = round((value*100),3)\n",
    "        sorted_candidate_total = dict( sorted(candidate_vote_total.items(), key=operator.itemgetter(1),reverse=True))\n",
    "    print(sorted_candidate_total)\n",
    "    sorted_candidate_percent = dict( sorted(candidate_vote_percent.items(), key=operator.itemgetter(1),reverse=True))\n",
    "    print(sorted_candidate_percent)\n",
    "    \n",
    "    #for x in range(len(candidate_name)):\n",
    "        #print(f\"{candidate_name[x]}: {str(sorted_candidate_percent[x])} ({str(sorted_candidate_total[x])})\")\n",
    "    #output.write('{}\\n{}\\n{}\\n{}\\n'.format(line1, line2, line3, line4))\n",
    "    #for i in range(len(candidates)):\n",
    "        #line = str(\n",
    "    #f\"{candidates[i]}: {str(percent_votes[i])} ({str(num_votes[i])})\")\n",
    "    #output.write('{}\\n'.format(line))\n",
    "    \n",
    "    for key,value in sorted_candidate_percent.keys() and sorted_candidate_total.keys():\n",
    "        string = str(key)+\" str(sorted_candidate_percent((value))+\" (+\" str(sorted_candidate_total(value))+\" )+\" \\n\""
   ]
  },
  {
   "cell_type": "code",
   "execution_count": null,
   "id": "58882d81",
   "metadata": {},
   "outputs": [],
   "source": [
    "#for i in range(len(candidate_name)):\n",
    "    #print(f\"{candidate_name[i]}: {str(candidate_vote_percent[i])} ({str(candidate_vote_total[i])})\")"
   ]
  },
  {
   "cell_type": "code",
   "execution_count": null,
   "id": "3d0baa65",
   "metadata": {},
   "outputs": [],
   "source": [
    "candidate_name\n",
    "common_keys\n",
    "print(vote_results)\n"
   ]
  },
  {
   "cell_type": "code",
   "execution_count": 217,
   "id": "a3490dee",
   "metadata": {},
   "outputs": [
    {
     "name": "stdout",
     "output_type": "stream",
     "text": [
      "{'Khan': 63.0, 'Correy': 20.0, 'Li': 14.0, \"O'Tooley\": 3.0}\n",
      "{'Khan': 15527617, 'Correy': 4929400, 'Li': 3450580, \"O'Tooley\": 739410}\n"
     ]
    }
   ],
   "source": [
    "print(sorted_candidate_percent)\n",
    "print(sorted_candidate_total)"
   ]
  },
  {
   "cell_type": "code",
   "execution_count": 67,
   "id": "fd57fd2b",
   "metadata": {},
   "outputs": [
    {
     "data": {
      "text/plain": [
       "{'Correy': 0.19999994319797126,\n",
       " 'Li': 0.13999996023857988,\n",
       " \"O'Tooley\": 0.02999999147969569,\n",
       " 'Khan': 0.6300001050837531}"
      ]
     },
     "execution_count": 67,
     "metadata": {},
     "output_type": "execute_result"
    }
   ],
   "source": [
    "candidate_vote_percent"
   ]
  },
  {
   "cell_type": "code",
   "execution_count": 68,
   "id": "f378da03",
   "metadata": {},
   "outputs": [
    {
     "data": {
      "text/plain": [
       "'Khan'"
      ]
     },
     "execution_count": 68,
     "metadata": {},
     "output_type": "execute_result"
    }
   ],
   "source": [
    "winner"
   ]
  },
  {
   "cell_type": "code",
   "execution_count": 200,
   "id": "fbe4b5ad",
   "metadata": {},
   "outputs": [
    {
     "ename": "SyntaxError",
     "evalue": "invalid syntax (4290743139.py, line 2)",
     "output_type": "error",
     "traceback": [
      "\u001b[0;36m  File \u001b[0;32m\"/var/folders/gr/g0lzn1p15gqfb11105yyt_tm0000gn/T/ipykernel_92140/4290743139.py\"\u001b[0;36m, line \u001b[0;32m2\u001b[0m\n\u001b[0;31m    print(f\"{key}, + \":\" {candidate_vote_percent[key]}, {candidate_vote_total[key]}\")\u001b[0m\n\u001b[0m                      ^\u001b[0m\n\u001b[0;31mSyntaxError\u001b[0m\u001b[0;31m:\u001b[0m invalid syntax\n"
     ]
    }
   ],
   "source": [
    "for key in set(candidate_vote_percent.keys()) & set(candidate_vote_total.keys()):\n",
    "    print(f\"{key}, + \":\" {candidate_vote_percent[key]}, {candidate_vote_total[key]}\")\n"
   ]
  },
  {
   "cell_type": "code",
   "execution_count": 116,
   "id": "cbcba2e8",
   "metadata": {},
   "outputs": [],
   "source": [
    "for key, value in candidate_vote_percent.items():\n",
    "        candidate_vote_percent[key] = round((value*100),3)"
   ]
  },
  {
   "cell_type": "code",
   "execution_count": 120,
   "id": "5b22ac58",
   "metadata": {},
   "outputs": [
    {
     "name": "stdout",
     "output_type": "stream",
     "text": [
      "{'Khan': 2218231, 'Correy': 704200, 'Li': 492940, \"O'Tooley\": 105630}\n"
     ]
    }
   ],
   "source": [
    "sorted_candidate_total = dict( sorted(candidate_vote_total.items(), key=operator.itemgetter(1),reverse=True))\n",
    "print(sorted_candidate_total)"
   ]
  },
  {
   "cell_type": "code",
   "execution_count": 134,
   "id": "56b40b00",
   "metadata": {},
   "outputs": [
    {
     "name": "stdout",
     "output_type": "stream",
     "text": [
      "Election Results\n",
      "Total Votes: 7042002\n",
      "-------------------------\n",
      "Winner: Khan\n",
      "-------------------------\n"
     ]
    }
   ],
   "source": [
    "print(\"Election Results\")\n",
    "print(f\"Total Votes: {vote_total}\")\n",
    "print(\"-------------------------\")\n",
    "print(f\"Winner: {winner}\")\n",
    "print(\"-------------------------\")"
   ]
  },
  {
   "cell_type": "code",
   "execution_count": 135,
   "id": "3713d46b",
   "metadata": {},
   "outputs": [
    {
     "name": "stdout",
     "output_type": "stream",
     "text": [
      "{'Khan': 4436462, 'Correy': 1408400, 'Li': 985880, \"O'Tooley\": 211260}\n",
      "{'Khan': 63.0, 'Correy': 20.0, 'Li': 14.0, \"O'Tooley\": 3.0}\n"
     ]
    }
   ],
   "source": [
    "    sorted_candidate_total = dict( sorted(candidate_vote_total.items(), key=operator.itemgetter(1),reverse=True))\n",
    "    print(sorted_candidate_total)\n",
    "    sorted_candidate_percent = dict( sorted(candidate_vote_percent.items(), key=operator.itemgetter(1),reverse=True))\n",
    "    print(sorted_candidate_percent)"
   ]
  },
  {
   "cell_type": "code",
   "execution_count": 189,
   "id": "79f4050b",
   "metadata": {},
   "outputs": [
    {
     "ename": "SyntaxError",
     "evalue": "invalid syntax (1458845991.py, line 8)",
     "output_type": "error",
     "traceback": [
      "\u001b[0;36m  File \u001b[0;32m\"/var/folders/gr/g0lzn1p15gqfb11105yyt_tm0000gn/T/ipykernel_92140/1458845991.py\"\u001b[0;36m, line \u001b[0;32m8\u001b[0m\n\u001b[0;31m    {key}: {sorted_candidate_percent[key]} ({sorted_candidate_total[key]})\u001b[0m\n\u001b[0m    ^\u001b[0m\n\u001b[0;31mSyntaxError\u001b[0m\u001b[0;31m:\u001b[0m invalid syntax\n"
     ]
    }
   ],
   "source": [
    "f = open(\"election_results.txt\", mode = \"w\")\n",
    "file.write(\n",
    "    f\"Election Results\" \"\\n\"\n",
    "    f\"-------------------------\" \"\\n\" \n",
    "    f\"Total Votes: {vote_total}\" \"\\n\"\n",
    "    f\"-------------------------\" \"\\n\"\n",
    "        for key in sorted_candidate_percent.keys()\n",
    "            {key}: {sorted_candidate_percent[key]} ({sorted_candidate_total[key]})\n",
    "    \"-------------------------\" \"\\n\"\n",
    "    f\"Winner: {winner}\" \"\\n\"\n",
    "    \"-------------------------\" \"\\n\")\n",
    "file.close\n"
   ]
  },
  {
   "cell_type": "code",
   "execution_count": 146,
   "id": "79a3f4cf",
   "metadata": {},
   "outputs": [
    {
     "ename": "SyntaxError",
     "evalue": "invalid syntax (4199642521.py, line 4)",
     "output_type": "error",
     "traceback": [
      "\u001b[0;36m  File \u001b[0;32m\"/var/folders/gr/g0lzn1p15gqfb11105yyt_tm0000gn/T/ipykernel_92140/4199642521.py\"\u001b[0;36m, line \u001b[0;32m4\u001b[0m\n\u001b[0;31m    print(\"-------------------------\" \"\\n\")\u001b[0m\n\u001b[0m    ^\u001b[0m\n\u001b[0;31mSyntaxError\u001b[0m\u001b[0;31m:\u001b[0m invalid syntax\n"
     ]
    }
   ],
   "source": [
    "\n",
    "f = open(\"election_results.txt\", mode = \"w\")\n",
    "file.write(\n",
    "    print(\"Election Results\" \"\\n\")\n",
    "    print(\"-------------------------\" \"\\n\") \n",
    "    print(f\"Total Votes: {vote_total}\" \"\\n\")\n",
    "    print(\"-------------------------\" \"\\n\")\n",
    "    for key in (sorted_candidate_percent.keys()):\n",
    "        print(f'{key}: {sorted_candidate_percent[key]} ({sorted_candidate_total[key]})')\n",
    "    print(\"-------------------------\" \"\\n\")\n",
    "    print(f\"Winner: {winner}\" \"\\n\")\n",
    "    print(\"-------------------------\" \"\\n\"))\n",
    "file.close"
   ]
  },
  {
   "cell_type": "code",
   "execution_count": 193,
   "id": "770fe41e",
   "metadata": {},
   "outputs": [
    {
     "ename": "SyntaxError",
     "evalue": "invalid syntax (3525568138.py, line 7)",
     "output_type": "error",
     "traceback": [
      "\u001b[0;36m  File \u001b[0;32m\"/var/folders/gr/g0lzn1p15gqfb11105yyt_tm0000gn/T/ipykernel_92140/3525568138.py\"\u001b[0;36m, line \u001b[0;32m7\u001b[0m\n\u001b[0;31m    f'{key}: {sorted_candidate_percent[key]} ({sorted_candidate_total[key]})')\"\\n\"\u001b[0m\n\u001b[0m    ^\u001b[0m\n\u001b[0;31mSyntaxError\u001b[0m\u001b[0;31m:\u001b[0m invalid syntax\n"
     ]
    }
   ],
   "source": [
    "df.write(\n",
    "    \"Election Results\"\"\\n\"\n",
    "    \"-------------------------\"\"\\n\"\n",
    "    f\"Total Votes: {vote_total}\"\"\\n\"\n",
    "    \"-------------------------\"\"\\n\"\n",
    "        for key in sorted_candidate_percent.keys\n",
    "           f'{key}: {sorted_candidate_percent[key]} ({sorted_candidate_total[key]})')\"\\n\"\n",
    "    \"-------------------------\"\"\\n\"\n",
    "    f\"Winner: {winner}\"\n",
    "    \"-------------------------\"\"\\n\"\n",
    "df.close()\n",
    "    "
   ]
  },
  {
   "cell_type": "code",
   "execution_count": 164,
   "id": "e93f71ec",
   "metadata": {},
   "outputs": [
    {
     "name": "stdout",
     "output_type": "stream",
     "text": [
      "O'Tooley: 3.0 (316890)\n"
     ]
    }
   ],
   "source": [
    "print(vote_results, end=\"\")"
   ]
  },
  {
   "cell_type": "code",
   "execution_count": null,
   "id": "d5029e2a",
   "metadata": {},
   "outputs": [],
   "source": [
    "df.write(\n",
    "    \"Election Results\"\"\\n\"\n",
    "    \"-------------------------\"\"\\n\"\n",
    "    df.write('\\n')\n",
    "    df.write(f\"Total Votes: {vote_total}\")\n",
    "    df.write('\\n')\n",
    "    df.write(\"-------------------------\")\n",
    "    df.write('\\n')\n",
    "    for key in (sorted_candidate_percent.keys()):\n",
    "       df.write(f'{key}: {sorted_candidate_percent[key]} ({sorted_candidate_total[key]})')\n",
    "       df.write('\\n')\n",
    "    df.write(\"-------------------------\")\n",
    "    df.write('\\n')\n",
    "    df.write(f\"Winner: {winner}\")\n",
    "    df.write('\\n')\n",
    "    df.write(\"-------------------------\")\n",
    "df.close()"
   ]
  },
  {
   "cell_type": "code",
   "execution_count": 173,
   "id": "e4705160",
   "metadata": {},
   "outputs": [
    {
     "ename": "SyntaxError",
     "evalue": "invalid syntax (2518973982.py, line 4)",
     "output_type": "error",
     "traceback": [
      "\u001b[0;36m  File \u001b[0;32m\"/var/folders/gr/g0lzn1p15gqfb11105yyt_tm0000gn/T/ipykernel_92140/2518973982.py\"\u001b[0;36m, line \u001b[0;32m4\u001b[0m\n\u001b[0;31m    f.write(\"\\n\")\u001b[0m\n\u001b[0m    ^\u001b[0m\n\u001b[0;31mSyntaxError\u001b[0m\u001b[0;31m:\u001b[0m invalid syntax\n"
     ]
    }
   ],
   "source": [
    "df=open('Election Results','w')\n",
    "df.write(\n",
    "    df.write(\"Election Results\")\n",
    "    f.write(\"\\n\")\n",
    "    df.write(\"-------------------------\")\n",
    "    df.write('\\n')\n",
    "    df.write(f\"Total Votes: {vote_total}\")\n",
    "    df.write('\\n')\n",
    "    df.write(\"-------------------------\")\n",
    "    df.write('\\n')\n",
    "    for key in (sorted_candidate_percent.keys()):\n",
    "       df.write(f'{key}: {sorted_candidate_percent[key]} ({sorted_candidate_total[key]})')\n",
    "       df.write('\\n')\n",
    "    df.write(\"-------------------------\")\n",
    "    df.write('\\n')\n",
    "    df.write(f\"Winner: {winner}\")\n",
    "    df.write('\\n')\n",
    "    df.write(\"-------------------------\")\n",
    "df.close()"
   ]
  },
  {
   "cell_type": "code",
   "execution_count": 175,
   "id": "0c276c84",
   "metadata": {},
   "outputs": [
    {
     "ename": "SyntaxError",
     "evalue": "invalid syntax (439791247.py, line 6)",
     "output_type": "error",
     "traceback": [
      "\u001b[0;36m  File \u001b[0;32m\"/var/folders/gr/g0lzn1p15gqfb11105yyt_tm0000gn/T/ipykernel_92140/439791247.py\"\u001b[0;36m, line \u001b[0;32m6\u001b[0m\n\u001b[0;31m    for key in (sorted_candidate_percent.keys()):\u001b[0m\n\u001b[0m                                                ^\u001b[0m\n\u001b[0;31mSyntaxError\u001b[0m\u001b[0;31m:\u001b[0m invalid syntax\n"
     ]
    }
   ],
   "source": [
    " election_results = (\n",
    "        f\"\\nElection Results\\n\"\n",
    "        f\"-------------------------\\n\"\n",
    "        f\"Total Votes: {vote_total}\\n\"\n",
    "        f\"-------------------------\\n\"\n",
    "        for key in (sorted_candidate_percent.keys()):\n",
    "            f\"{key}: {sorted_candidate_percent[key]} ({sorted_candidate_total[key]})\\n\"\n",
    "        f\"-------------------------\\n\"\n",
    "        f\"Winner: {winner}\\n\"\n",
    "        f\"-------------------------\\n\"\n",
    " )"
   ]
  },
  {
   "cell_type": "code",
   "execution_count": 176,
   "id": "0bc87d52",
   "metadata": {},
   "outputs": [
    {
     "ename": "TypeError",
     "evalue": "'builtin_function_or_method' object is not subscriptable",
     "output_type": "error",
     "traceback": [
      "\u001b[0;31m---------------------------------------------------------------------------\u001b[0m",
      "\u001b[0;31mTypeError\u001b[0m                                 Traceback (most recent call last)",
      "\u001b[0;32m/var/folders/gr/g0lzn1p15gqfb11105yyt_tm0000gn/T/ipykernel_92140/2687420068.py\u001b[0m in \u001b[0;36m<module>\u001b[0;34m\u001b[0m\n\u001b[1;32m      2\u001b[0m \u001b[0;34m\u001b[0m\u001b[0m\n\u001b[1;32m      3\u001b[0m \u001b[0;32mfor\u001b[0m \u001b[0mk\u001b[0m \u001b[0;32min\u001b[0m \u001b[0mcommon_keys\u001b[0m\u001b[0;34m:\u001b[0m\u001b[0;34m\u001b[0m\u001b[0;34m\u001b[0m\u001b[0m\n\u001b[0;32m----> 4\u001b[0;31m     \u001b[0mprint\u001b[0m\u001b[0;34m(\u001b[0m\u001b[0mk\u001b[0m\u001b[0;34m,\u001b[0m \u001b[0msorted_candidate_percent\u001b[0m\u001b[0;34m.\u001b[0m\u001b[0mkeys\u001b[0m\u001b[0;34m[\u001b[0m\u001b[0mk\u001b[0m\u001b[0;34m]\u001b[0m\u001b[0;34m,\u001b[0m \u001b[0msorted_candidate_total\u001b[0m\u001b[0;34m.\u001b[0m\u001b[0mkeys\u001b[0m\u001b[0;34m[\u001b[0m\u001b[0mk\u001b[0m\u001b[0;34m]\u001b[0m\u001b[0;34m)\u001b[0m\u001b[0;34m\u001b[0m\u001b[0;34m\u001b[0m\u001b[0m\n\u001b[0m",
      "\u001b[0;31mTypeError\u001b[0m: 'builtin_function_or_method' object is not subscriptable"
     ]
    }
   ],
   "source": [
    "common_keys = sorted_candidate_percent.keys() & sorted_candidate_total.keys()\n",
    "\n",
    "for k in common_keys:\n",
    "    print(k, sorted_candidate_percent.keys[k], sorted_candidate_total.keys[k])"
   ]
  },
  {
   "cell_type": "code",
   "execution_count": 207,
   "id": "75dd4e4f",
   "metadata": {},
   "outputs": [
    {
     "ename": "IndentationError",
     "evalue": "unindent does not match any outer indentation level (<tokenize>, line 3)",
     "output_type": "error",
     "traceback": [
      "\u001b[0;36m  File \u001b[0;32m\"<tokenize>\"\u001b[0;36m, line \u001b[0;32m3\u001b[0m\n\u001b[0;31m    for keys in (sorted_candidate_percent.keys()):\u001b[0m\n\u001b[0m    ^\u001b[0m\n\u001b[0;31mIndentationError\u001b[0m\u001b[0;31m:\u001b[0m unindent does not match any outer indentation level\n"
     ]
    }
   ],
   "source": [
    "  for key in set(candidate_vote_percent.keys()) & set(sorted_candidate_total.keys()):\n",
    "        print(f\"{key}: {candidate_vote_percent[key]} ({sorted_candidate_total[key]})\")\n",
    "    for keys in (sorted_candidate_percent.keys()):\n",
    "       vote_results = f\"{key}: {sorted_candidate_percent[key]} ({sorted_candidate_total[key]})\\n\"\n",
    "\n",
    "    common_keys = sorted_candidate_percent.keys() & sorted_candidate_total.keys()\n",
    "\n",
    "    for k in common_keys:\n",
    "        print(k, sorted_candidate_percent.keys[k], sorted_candidate_total.keys[k])"
   ]
  },
  {
   "cell_type": "code",
   "execution_count": 218,
   "id": "c63a8b8e",
   "metadata": {},
   "outputs": [
    {
     "ename": "SyntaxError",
     "evalue": "invalid syntax (3358154380.py, line 10)",
     "output_type": "error",
     "traceback": [
      "\u001b[0;36m  File \u001b[0;32m\"/var/folders/gr/g0lzn1p15gqfb11105yyt_tm0000gn/T/ipykernel_92140/3358154380.py\"\u001b[0;36m, line \u001b[0;32m10\u001b[0m\n\u001b[0;31m    output.write('{}\\n{}\\n{}\\n{}\\n'.format(line5, line6, line7, line8))\u001b[0m\n\u001b[0m    ^\u001b[0m\n\u001b[0;31mSyntaxError\u001b[0m\u001b[0;31m:\u001b[0m invalid syntax\n"
     ]
    }
   ],
   "source": [
    "   output = open(\"output.txt\", \"w\")\n",
    "line1 = \"Election Results\"\n",
    "line2 = \"--------------------------\"\n",
    "line3 = str(f\"Total Votes: {str(vote_total)}\")\n",
    "line4 = str(\"--------------------------\")\n",
    "output.write('{}\\n{}\\n{}\\n{}\\n'.format(line1, line2, line3, line4))\n",
    "for i in range(len(candidate_name)):\n",
    "    line = str(\n",
    "        f\"{candidate_name[i]}: {str(sorted_candidate_percent[i])} ({str(sorted_candidate_total[i])})\"\n",
    "output.write('{}\\n{}\\n{}\\n{}\\n'.format(line5, line6, line7, line8))\n",
    "line5 = \"--------------------------\"\n",
    "line6 = str(f\"Winner: {winner}\")\n",
    "line7 = \"--------------------------\"\n",
    "output.write('{}\\n{}\\n{}\\n'.format(line9, line10, line11))"
   ]
  },
  {
   "cell_type": "code",
   "execution_count": 219,
   "id": "e8409067",
   "metadata": {},
   "outputs": [
    {
     "ename": "SyntaxError",
     "evalue": "invalid syntax (3435835340.py, line 10)",
     "output_type": "error",
     "traceback": [
      "\u001b[0;36m  File \u001b[0;32m\"/var/folders/gr/g0lzn1p15gqfb11105yyt_tm0000gn/T/ipykernel_92140/3435835340.py\"\u001b[0;36m, line \u001b[0;32m10\u001b[0m\n\u001b[0;31m    output.write('{}\\n'.format(line))\u001b[0m\n\u001b[0m    ^\u001b[0m\n\u001b[0;31mSyntaxError\u001b[0m\u001b[0;31m:\u001b[0m invalid syntax\n"
     ]
    }
   ],
   "source": [
    "output = open(\"output.txt\", \"w\")\n",
    "line1 = \"Election Results\"\n",
    "line2 = \"--------------------------\"\n",
    "line3 = str(f\"Total Votes: {str(vote_total)}\")\n",
    "line4 = str(\"--------------------------\")\n",
    "output.write('{}\\n{}\\n{}\\n{}\\n'.format(line1, line2, line3, line4))\n",
    "for i in range(len(candidate_name)):\n",
    "    line = str(\n",
    "        f\"{candidate_name[i]}: {str(sorted_candidate_percent[i])} ({str(sorted_candidate_total[i])})\"\n",
    "    output.write('{}\\n'.format(line))\n",
    "line5 = \"--------------------------\"\n",
    "line6 = str(f\"Winner: {winner}\")\n",
    "line7 = \"--------------------------\"\n",
    "output.write('{}\\n{}\\n{}\\n'.format(line5, line6, line7))"
   ]
  },
  {
   "cell_type": "code",
   "execution_count": 239,
   "id": "bba176a6",
   "metadata": {},
   "outputs": [
    {
     "ename": "SyntaxError",
     "evalue": "invalid syntax (263048557.py, line 9)",
     "output_type": "error",
     "traceback": [
      "\u001b[0;36m  File \u001b[0;32m\"/var/folders/gr/g0lzn1p15gqfb11105yyt_tm0000gn/T/ipykernel_92140/263048557.py\"\u001b[0;36m, line \u001b[0;32m9\u001b[0m\n\u001b[0;31m    f\"{key}: {sorted_candidate_percent[key]} ({sorted_candidate_total[key]})\\n\"\u001b[0m\n\u001b[0m    ^\u001b[0m\n\u001b[0;31mSyntaxError\u001b[0m\u001b[0;31m:\u001b[0m invalid syntax\n"
     ]
    }
   ],
   "source": [
    "with open(file_to_save, \"w\") as txt_file:\n",
    "    #I think this should be right - not sure why it's not working! \n",
    "    election_results = (\n",
    "        f\"\\nElection Results\\n\"\n",
    "        f\"-------------------------\\n\"\n",
    "        f\"Total Votes: {vote_total}\\n\"\n",
    "        f\"-------------------------\\n\"\n",
    "        for key in range(len(sorted_candidate_percent.keys()))\n",
    "            f\"{key}: {sorted_candidate_percent[key]} ({sorted_candidate_total[key]})\\n\"\n",
    "        f\"-------------------------\\n\"\n",
    "        f\"Winner: {winner}\\n\"\n",
    "        f\"-------------------------\\n\"\n",
    "    print(election_results, end=\"\")\n",
    "\n",
    "    txt_file.write(election_results)"
   ]
  },
  {
   "cell_type": "code",
   "execution_count": null,
   "id": "1eede0a4",
   "metadata": {},
   "outputs": [],
   "source": []
  }
 ],
 "metadata": {
  "kernelspec": {
   "display_name": "Python 3 (ipykernel)",
   "language": "python",
   "name": "python3"
  },
  "language_info": {
   "codemirror_mode": {
    "name": "ipython",
    "version": 3
   },
   "file_extension": ".py",
   "mimetype": "text/x-python",
   "name": "python",
   "nbconvert_exporter": "python",
   "pygments_lexer": "ipython3",
   "version": "3.9.7"
  }
 },
 "nbformat": 4,
 "nbformat_minor": 5
}
