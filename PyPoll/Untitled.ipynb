{
 "cells": [
  {
   "cell_type": "code",
   "execution_count": 108,
   "id": "7003d4f2",
   "metadata": {},
   "outputs": [],
   "source": [
    "import os\n",
    "import csv\n",
    "import operator\n",
    "import collections\n",
    "from collections import Counter"
   ]
  },
  {
   "cell_type": "code",
   "execution_count": 109,
   "id": "285a4a16",
   "metadata": {},
   "outputs": [],
   "source": [
    "vote_total = 0\n",
    "candidate_list = []\n",
    "candidate_vote_total = {}\n",
    "candidate_name = []\n",
    "candidate_vote_percent = {}\n"
   ]
  },
  {
   "cell_type": "code",
   "execution_count": 110,
   "id": "951e34dc",
   "metadata": {},
   "outputs": [],
   "source": [
    "csvpath = os.path.join(\"/Users/gabriellaburns/Desktop/GT_HW/python-challenge/PyPoll/Resources/election_data.csv\")\n",
    "\n"
   ]
  },
  {
   "cell_type": "code",
   "execution_count": 123,
   "id": "95539165",
   "metadata": {},
   "outputs": [
    {
     "name": "stdout",
     "output_type": "stream",
     "text": [
      "Khan,: 63.0, (4436462)\n",
      "Correy,: 20.0, (1408400)\n",
      "Li,: 14.0, (985880)\n",
      "O'Tooley,: 3.0, (211260)\n"
     ]
    }
   ],
   "source": [
    "with open(csvpath, 'r') as csvfile:\n",
    "    csvreader = csv.reader(csvfile, delimiter=',')\n",
    "    csv_reader=next(csvreader)\n",
    "\n",
    "    #total votes and total rows\n",
    "    for row in csvreader:\n",
    "        vote_total = vote_total + 1\n",
    "        #print(len(vote_total))\n",
    "        candidate_list.append(row[2])\n",
    "        \n",
    "        #add \n",
    "       \n",
    "    #convert candidate list to set to get unique values, then back to list \n",
    "    candidate_set = set(candidate_list)\n",
    "    candidate_name =list(candidate_set)\n",
    "    candidate_vote_total = dict.fromkeys(candidate_name, 0)\n",
    "    candidate_vote_percent = dict.fromkeys(candidate_name, 0)\n",
    "    #add names to dictionary \n",
    "    \n",
    "   #sort the votes\n",
    "    \n",
    "    \n",
    "    for x in candidate_list:\n",
    "        if x in candidate_name:\n",
    "            candidate_vote_total[x] = candidate_vote_total[x] + 1\n",
    "    for x in candidate_name:\n",
    "        candidate_vote_percent[x] = (float(candidate_vote_total[x])/float(vote_total))\n",
    "    for key, value in candidate_vote_percent.items():\n",
    "        candidate_vote_percent[key] = round((value*100),3)\n",
    "    sorted_candidate_total = dict( sorted(candidate_vote_total.items(), key=operator.itemgetter(1),reverse=True))\n",
    "    #find winner\n",
    "    for key in set(candidate_vote_percent.keys()) & set(sorted_candidate_total.keys()):\n",
    "        print(f\"{key},: {candidate_vote_percent[key]}, ({sorted_candidate_total[key]})\")"
   ]
  },
  {
   "cell_type": "code",
   "execution_count": 112,
   "id": "3d0baa65",
   "metadata": {},
   "outputs": [
    {
     "data": {
      "text/plain": [
       "['Correy', 'Li', \"O'Tooley\", 'Khan']"
      ]
     },
     "execution_count": 112,
     "metadata": {},
     "output_type": "execute_result"
    }
   ],
   "source": [
    "candidate_name\n",
    "\n"
   ]
  },
  {
   "cell_type": "code",
   "execution_count": 66,
   "id": "a3490dee",
   "metadata": {},
   "outputs": [
    {
     "data": {
      "text/plain": [
       "{'Correy': 704200, 'Li': 492940, \"O'Tooley\": 105630, 'Khan': 2218231}"
      ]
     },
     "execution_count": 66,
     "metadata": {},
     "output_type": "execute_result"
    }
   ],
   "source": [
    "candidate_vote_total\n"
   ]
  },
  {
   "cell_type": "code",
   "execution_count": 67,
   "id": "fd57fd2b",
   "metadata": {},
   "outputs": [
    {
     "data": {
      "text/plain": [
       "{'Correy': 0.19999994319797126,\n",
       " 'Li': 0.13999996023857988,\n",
       " \"O'Tooley\": 0.02999999147969569,\n",
       " 'Khan': 0.6300001050837531}"
      ]
     },
     "execution_count": 67,
     "metadata": {},
     "output_type": "execute_result"
    }
   ],
   "source": [
    "candidate_vote_percent"
   ]
  },
  {
   "cell_type": "code",
   "execution_count": 68,
   "id": "f378da03",
   "metadata": {},
   "outputs": [
    {
     "data": {
      "text/plain": [
       "'Khan'"
      ]
     },
     "execution_count": 68,
     "metadata": {},
     "output_type": "execute_result"
    }
   ],
   "source": [
    "winner"
   ]
  },
  {
   "cell_type": "code",
   "execution_count": 115,
   "id": "fbe4b5ad",
   "metadata": {},
   "outputs": [
    {
     "name": "stdout",
     "output_type": "stream",
     "text": [
      "Correy,: 20.0, (704200)\n",
      "Li,: 14.0, (492940)\n",
      "O'Tooley,: 3.0, (105630)\n",
      "Khan,: 63.0, (2218231)\n"
     ]
    }
   ],
   "source": [
    "for key in set(candidate_vote_percent.keys()) & set(candidate_vote_total.keys()):\n",
    "    print(f\"{key},: {candidate_vote_percent[key]}, ({candidate_vote_total[key]})\")\n"
   ]
  },
  {
   "cell_type": "code",
   "execution_count": 116,
   "id": "8bdbfd6a",
   "metadata": {},
   "outputs": [],
   "source": [
    "for key, value in candidate_vote_percent.items():\n",
    "        candidate_vote_percent[key] = round((value*100),3)"
   ]
  },
  {
   "cell_type": "code",
   "execution_count": 120,
   "id": "f316683c",
   "metadata": {},
   "outputs": [
    {
     "name": "stdout",
     "output_type": "stream",
     "text": [
      "{'Khan': 2218231, 'Correy': 704200, 'Li': 492940, \"O'Tooley\": 105630}\n"
     ]
    }
   ],
   "source": [
    "sorted_candidate_total = dict( sorted(candidate_vote_total.items(), key=operator.itemgetter(1),reverse=True))\n",
    "print(sorted_candidate_total)"
   ]
  },
  {
   "cell_type": "code",
   "execution_count": null,
   "id": "f41614ad",
   "metadata": {},
   "outputs": [],
   "source": []
  }
 ],
 "metadata": {
  "kernelspec": {
   "display_name": "Python 3 (ipykernel)",
   "language": "python",
   "name": "python3"
  },
  "language_info": {
   "codemirror_mode": {
    "name": "ipython",
    "version": 3
   },
   "file_extension": ".py",
   "mimetype": "text/x-python",
   "name": "python",
   "nbconvert_exporter": "python",
   "pygments_lexer": "ipython3",
   "version": "3.9.7"
  }
 },
 "nbformat": 4,
 "nbformat_minor": 5
}
